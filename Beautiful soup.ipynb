{
 "cells": [
  {
   "cell_type": "code",
   "execution_count": 1,
   "metadata": {},
   "outputs": [],
   "source": [
    "import requests\n",
    "from bs4 import BeautifulSoup \n",
    "import pandas as pd"
   ]
  },
  {
   "cell_type": "code",
   "execution_count": 2,
   "metadata": {},
   "outputs": [
    {
     "name": "stdout",
     "output_type": "stream",
     "text": [
      "http://covid19.ap.gov.in/covid19/\n"
     ]
    }
   ],
   "source": [
    "cov_url=\"http://covid19.ap.gov.in/covid19/\" \n",
    "print(cov_url)"
   ]
  },
  {
   "cell_type": "code",
   "execution_count": 3,
   "metadata": {},
   "outputs": [],
   "source": [
    "response=requests.get(cov_url)"
   ]
  },
  {
   "cell_type": "code",
   "execution_count": 4,
   "metadata": {},
   "outputs": [
    {
     "data": {
      "text/plain": [
       "<Response [200]>"
      ]
     },
     "execution_count": 4,
     "metadata": {},
     "output_type": "execute_result"
    }
   ],
   "source": [
    "response"
   ]
  },
  {
   "cell_type": "code",
   "execution_count": 5,
   "metadata": {},
   "outputs": [
    {
     "data": {
      "text/plain": [
       "200"
      ]
     },
     "execution_count": 5,
     "metadata": {},
     "output_type": "execute_result"
    }
   ],
   "source": [
    "response.status_code"
   ]
  },
  {
   "cell_type": "code",
   "execution_count": 6,
   "metadata": {},
   "outputs": [],
   "source": [
    "soup=BeautifulSoup(response.content,'lxml')"
   ]
  },
  {
   "cell_type": "code",
   "execution_count": 7,
   "metadata": {},
   "outputs": [],
   "source": [
    "right_table=soup.find('table',{'class':'tab-pane-active'})"
   ]
  },
  {
   "cell_type": "code",
   "execution_count": 8,
   "metadata": {},
   "outputs": [],
   "source": [
    "table=soup.find('table')"
   ]
  },
  {
   "cell_type": "code",
   "execution_count": 9,
   "metadata": {},
   "outputs": [],
   "source": [
    "rows=table.find_all('td') "
   ]
  },
  {
   "cell_type": "code",
   "execution_count": 10,
   "metadata": {},
   "outputs": [],
   "source": [
    "header=[]\n",
    "for row in table.find_all('th'): \n",
    "    header.append(row.text.rstrip())"
   ]
  },
  {
   "cell_type": "code",
   "execution_count": 11,
   "metadata": {},
   "outputs": [
    {
     "data": {
      "text/plain": [
       "['S.no',\n",
       " 'District Name',\n",
       " 'Positive cases',\n",
       " 'Cured Cases',\n",
       " 'Death',\n",
       " 'Sample Collected',\n",
       " 'Test In-Progress',\n",
       " 'Pending Sample']"
      ]
     },
     "execution_count": 11,
     "metadata": {},
     "output_type": "execute_result"
    }
   ],
   "source": [
    "header"
   ]
  },
  {
   "cell_type": "code",
   "execution_count": 12,
   "metadata": {},
   "outputs": [],
   "source": [
    "vertical=[]\n",
    "for row in rows: \n",
    "    vertical.append(row.text.rstrip())"
   ]
  },
  {
   "cell_type": "code",
   "execution_count": 13,
   "metadata": {},
   "outputs": [],
   "source": [
    "c=0\n",
    "k=8 \n",
    "cell1=[]\n",
    "cell2=[]\n",
    "cell3=[]\n",
    "cell4=[]\n",
    "cell5=[]\n",
    "cell6=[]\n",
    "cell7=[]\n",
    "cell8=[]\n",
    "\n",
    "for i in range(0,14):\n",
    "    f=vertical[c:k] \n",
    "    c=k\n",
    "    k=k+8 \n",
    "    for i in range(0,1):\n",
    "        cell1.append(f[0]) \n",
    "        cell2.append(f[1]) \n",
    "        cell3.append(f[2])  \n",
    "        cell4.append(f[3]) \n",
    "        cell5.append(f[4]) \n",
    "        cell6.append(f[5]) \n",
    "        cell7.append(f[6]) \n",
    "        cell8.append(f[7]) \n",
    "        "
   ]
  },
  {
   "cell_type": "code",
   "execution_count": 14,
   "metadata": {},
   "outputs": [],
   "source": [
    "covid_19_ap=pd.DataFrame({'S.no':cell1,\n",
    "                          'District Name':cell2,\n",
    "                          'Positive cases':cell3,\n",
    "                           'Cured Cases':cell4,\n",
    "                          'Death':cell5,\n",
    "                          'Sample Collected':cell6,\n",
    "                           'Test In-Progress':cell7,\n",
    "                           'Pending Sample':cell8})"
   ]
  },
  {
   "cell_type": "code",
   "execution_count": 15,
   "metadata": {},
   "outputs": [
    {
     "data": {
      "text/html": [
       "<div>\n",
       "<style scoped>\n",
       "    .dataframe tbody tr th:only-of-type {\n",
       "        vertical-align: middle;\n",
       "    }\n",
       "\n",
       "    .dataframe tbody tr th {\n",
       "        vertical-align: top;\n",
       "    }\n",
       "\n",
       "    .dataframe thead th {\n",
       "        text-align: right;\n",
       "    }\n",
       "</style>\n",
       "<table border=\"1\" class=\"dataframe\">\n",
       "  <thead>\n",
       "    <tr style=\"text-align: right;\">\n",
       "      <th></th>\n",
       "      <th>S.no</th>\n",
       "      <th>District Name</th>\n",
       "      <th>Positive cases</th>\n",
       "      <th>Cured Cases</th>\n",
       "      <th>Death</th>\n",
       "      <th>Sample Collected</th>\n",
       "      <th>Test In-Progress</th>\n",
       "      <th>Pending Sample</th>\n",
       "    </tr>\n",
       "  </thead>\n",
       "  <tbody>\n",
       "    <tr>\n",
       "      <th>0</th>\n",
       "      <td>1</td>\n",
       "      <td>Chittoor</td>\n",
       "      <td>58</td>\n",
       "      <td>40</td>\n",
       "      <td>0</td>\n",
       "      <td>5769</td>\n",
       "      <td>2393</td>\n",
       "      <td>3376</td>\n",
       "    </tr>\n",
       "    <tr>\n",
       "      <th>1</th>\n",
       "      <td>2</td>\n",
       "      <td>Anantapur</td>\n",
       "      <td>42</td>\n",
       "      <td>125</td>\n",
       "      <td>2</td>\n",
       "      <td>2925</td>\n",
       "      <td>890</td>\n",
       "      <td>2035</td>\n",
       "    </tr>\n",
       "    <tr>\n",
       "      <th>2</th>\n",
       "      <td>4</td>\n",
       "      <td>Nellore</td>\n",
       "      <td>64</td>\n",
       "      <td>148</td>\n",
       "      <td>0</td>\n",
       "      <td>5078</td>\n",
       "      <td>2283</td>\n",
       "      <td>2795</td>\n",
       "    </tr>\n",
       "    <tr>\n",
       "      <th>3</th>\n",
       "      <td>5</td>\n",
       "      <td>Kurnool</td>\n",
       "      <td>195</td>\n",
       "      <td>24</td>\n",
       "      <td>1</td>\n",
       "      <td>5292</td>\n",
       "      <td>2244</td>\n",
       "      <td>3048</td>\n",
       "    </tr>\n",
       "    <tr>\n",
       "      <th>4</th>\n",
       "      <td>6</td>\n",
       "      <td>East Godavari</td>\n",
       "      <td>27</td>\n",
       "      <td>323</td>\n",
       "      <td>0</td>\n",
       "      <td>5833</td>\n",
       "      <td>1502</td>\n",
       "      <td>4331</td>\n",
       "    </tr>\n",
       "    <tr>\n",
       "      <th>5</th>\n",
       "      <td>7</td>\n",
       "      <td>Krishna</td>\n",
       "      <td>76</td>\n",
       "      <td>77</td>\n",
       "      <td>1</td>\n",
       "      <td>4795</td>\n",
       "      <td>2281</td>\n",
       "      <td>2514</td>\n",
       "    </tr>\n",
       "    <tr>\n",
       "      <th>6</th>\n",
       "      <td>8</td>\n",
       "      <td>Kadapa</td>\n",
       "      <td>49</td>\n",
       "      <td>493</td>\n",
       "      <td>0</td>\n",
       "      <td>4599</td>\n",
       "      <td>2142</td>\n",
       "      <td>2457</td>\n",
       "    </tr>\n",
       "    <tr>\n",
       "      <th>7</th>\n",
       "      <td>9</td>\n",
       "      <td>Visakhapatnam</td>\n",
       "      <td>19</td>\n",
       "      <td>289</td>\n",
       "      <td>1</td>\n",
       "      <td>6241</td>\n",
       "      <td>846</td>\n",
       "      <td>5395</td>\n",
       "    </tr>\n",
       "    <tr>\n",
       "      <th>8</th>\n",
       "      <td>10</td>\n",
       "      <td>Prakasam</td>\n",
       "      <td>44</td>\n",
       "      <td>22</td>\n",
       "      <td>0</td>\n",
       "      <td>2596</td>\n",
       "      <td>971</td>\n",
       "      <td>1625</td>\n",
       "    </tr>\n",
       "    <tr>\n",
       "      <th>9</th>\n",
       "      <td>11</td>\n",
       "      <td>Guntur</td>\n",
       "      <td>158</td>\n",
       "      <td>48</td>\n",
       "      <td>0</td>\n",
       "      <td>4087</td>\n",
       "      <td>1871</td>\n",
       "      <td>2216</td>\n",
       "    </tr>\n",
       "    <tr>\n",
       "      <th>10</th>\n",
       "      <td>12</td>\n",
       "      <td>Vizianagaram</td>\n",
       "      <td>0</td>\n",
       "      <td>20</td>\n",
       "      <td>0</td>\n",
       "      <td>1850</td>\n",
       "      <td>377</td>\n",
       "      <td>1473</td>\n",
       "    </tr>\n",
       "    <tr>\n",
       "      <th>11</th>\n",
       "      <td>13</td>\n",
       "      <td>West Godavari</td>\n",
       "      <td>39</td>\n",
       "      <td>31</td>\n",
       "      <td>0</td>\n",
       "      <td>5573</td>\n",
       "      <td>2792</td>\n",
       "      <td>2781</td>\n",
       "    </tr>\n",
       "    <tr>\n",
       "      <th>12</th>\n",
       "      <td>14</td>\n",
       "      <td>Srikakulam</td>\n",
       "      <td>0</td>\n",
       "      <td>178</td>\n",
       "      <td>0</td>\n",
       "      <td>3361</td>\n",
       "      <td>785</td>\n",
       "      <td>2576</td>\n",
       "    </tr>\n",
       "    <tr>\n",
       "      <th>13</th>\n",
       "      <td>--</td>\n",
       "      <td>Total</td>\n",
       "      <td>771</td>\n",
       "      <td>1818</td>\n",
       "      <td>5</td>\n",
       "      <td>58004</td>\n",
       "      <td>21382</td>\n",
       "      <td>36622</td>\n",
       "    </tr>\n",
       "  </tbody>\n",
       "</table>\n",
       "</div>"
      ],
      "text/plain": [
       "   S.no  District Name Positive cases Cured Cases Death Sample Collected  \\\n",
       "0     1       Chittoor             58          40     0             5769   \n",
       "1     2      Anantapur             42         125     2             2925   \n",
       "2     4        Nellore             64         148     0             5078   \n",
       "3     5        Kurnool            195          24     1             5292   \n",
       "4     6  East Godavari             27         323     0             5833   \n",
       "5     7        Krishna             76          77     1             4795   \n",
       "6     8         Kadapa             49         493     0             4599   \n",
       "7     9  Visakhapatnam             19         289     1             6241   \n",
       "8    10       Prakasam             44          22     0             2596   \n",
       "9    11         Guntur            158          48     0             4087   \n",
       "10   12   Vizianagaram              0          20     0             1850   \n",
       "11   13  West Godavari             39          31     0             5573   \n",
       "12   14     Srikakulam              0         178     0             3361   \n",
       "13   --          Total            771        1818     5            58004   \n",
       "\n",
       "   Test In-Progress Pending Sample  \n",
       "0              2393           3376  \n",
       "1               890           2035  \n",
       "2              2283           2795  \n",
       "3              2244           3048  \n",
       "4              1502           4331  \n",
       "5              2281           2514  \n",
       "6              2142           2457  \n",
       "7               846           5395  \n",
       "8               971           1625  \n",
       "9              1871           2216  \n",
       "10              377           1473  \n",
       "11             2792           2781  \n",
       "12              785           2576  \n",
       "13            21382          36622  "
      ]
     },
     "execution_count": 15,
     "metadata": {},
     "output_type": "execute_result"
    }
   ],
   "source": [
    "covid_19_ap"
   ]
  },
  {
   "cell_type": "code",
   "execution_count": null,
   "metadata": {},
   "outputs": [],
   "source": []
  }
 ],
 "metadata": {
  "kernelspec": {
   "display_name": "Python 3",
   "language": "python",
   "name": "python3"
  },
  "language_info": {
   "codemirror_mode": {
    "name": "ipython",
    "version": 3
   },
   "file_extension": ".py",
   "mimetype": "text/x-python",
   "name": "python",
   "nbconvert_exporter": "python",
   "pygments_lexer": "ipython3",
   "version": "3.7.6"
  }
 },
 "nbformat": 4,
 "nbformat_minor": 4
}
